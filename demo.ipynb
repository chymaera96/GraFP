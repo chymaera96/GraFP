{
 "cells": [
  {
   "cell_type": "code",
   "execution_count": 2,
   "metadata": {},
   "outputs": [],
   "source": [
    "import librosa\n",
    "from peak_extractor import Analyzer, peaks2mask\n",
    "from util import load_config\n",
    "import matplotlib.pyplot as plt\n",
    "import numpy as np\n",
    "import torch\n",
    "import time"
   ]
  },
  {
   "cell_type": "code",
   "execution_count": 11,
   "metadata": {},
   "outputs": [
    {
     "name": "stdout",
     "output_type": "stream",
     "text": [
      "Max value in sgram: 0.16276966035366058\n",
      "0.007853507995605469\n",
      "47\n"
     ]
    },
    {
     "data": {
      "image/png": "[encoded data removed]",
      "text/plain": [
       "<Figure size 432x288 with 1 Axes>"
      ]
     },
     "metadata": {
      "needs_background": "light"
     },
     "output_type": "display_data"
    }
   ],
   "source": [
    "cfg = load_config('config/audfp.yaml')\n",
    "\n",
    "filename = librosa.example('nutcracker')\n",
    "analyzer = Analyzer(cfg=cfg, density=5.0)\n",
    "d, sr = librosa.load(filename, sr=cfg['fs'])\n",
    "t = np.random.randint(0, len(d)/sr - 0.96 - 1)\n",
    "# t = 26\n",
    "d = d[sr*t : int(sr*(t+ 1.0))]\n",
    "# peaks, pklist = analyzer.wavfile2peaks(filename)\n",
    "mywin = np.hanning(cfg['n_fft'] + 2)[1:-1]\n",
    "S = np.abs(librosa.stft(y=d, n_fft=cfg['n_fft'],\n",
    "                        hop_length=cfg['hop_len'],\n",
    "                        window=mywin))\n",
    "# S = np.abs(librosa.stft(y=d, n_fft=512,\n",
    "#                         hop_length=256,\n",
    "#                         window='hanning'))\n",
    "sgram = librosa.feature.melspectrogram(S=S, n_mels=64)\n",
    "print(f\"Max value in sgram: {np.max(sgram)}\")\n",
    "\n",
    "t1 = time.time()\n",
    "peaks, pklist = analyzer.find_peaks(sgram=sgram, backward=True)\n",
    "t2 = time.time()\n",
    "print(t2-t1)\n",
    "print(len(pklist))\n",
    "# plt.figure(figsize=(20,5))\n",
    "pklist[:,0] = pklist[:,0] * sgram.shape[1]\n",
    "pklist[:,1] = pklist[:,1] * sgram.shape[0]\n",
    "# plt.scatter(np.array(pklist)[:,0], np.array(pklist)[:,1], color='red',alpha=1.0, marker='o')\n",
    "S_dB = librosa.power_to_db(sgram, ref=np.max)\n",
    "plt.imshow(S_dB, cmap='gray_r', interpolation='nearest', aspect='auto', origin='lower', alpha=0.7)\n",
    "plt.show()"
   ]
  },
  {
   "cell_type": "code",
   "execution_count": 3,
   "metadata": {},
   "outputs": [
    {
     "name": "stdout",
     "output_type": "stream",
     "text": [
      "torch.Size([219, 3])\n"
     ]
    },
    {
     "data": {
      "text/plain": [
       "torch.Size([256, 3])"
      ]
     },
     "execution_count": 3,
     "metadata": {},
     "output_type": "execute_result"
    }
   ],
   "source": [
    "pklist = torch.tensor(pklist)\n",
    "# Pad pklist to have 256 points\n",
    "print(pklist.shape)\n",
    "pklist = torch.cat((pklist, torch.zeros(256 - pklist.shape[0], 3)))\n",
    "pklist.shape"
   ]
  },
  {
   "cell_type": "code",
   "execution_count": 7,
   "metadata": {},
   "outputs": [
    {
     "data": {
      "text/plain": [
       "tensor([[0.0000e+00, 1.8750e-01, 3.2362e-01],\n",
       "        [0.0000e+00, 2.8125e-01, 4.9201e-01],\n",
       "        [0.0000e+00, 3.1250e-01, 5.3046e-01],\n",
       "        [0.0000e+00, 3.7500e-01, 7.3528e-02],\n",
       "        [0.0000e+00, 5.4688e-01, 8.9176e-02],\n",
       "        [1.0000e+00, 4.6875e-02, 1.1708e-01],\n",
       "        [1.0000e+00, 9.3750e-02, 5.6081e-02],\n",
       "        [1.0000e+00, 2.9688e-01, 7.6072e-01],\n",
       "        [1.0000e+00, 3.5938e-01, 1.5856e-01],\n",
       "        [1.0000e+00, 5.0000e-01, 4.7775e-01],\n",
       "        [1.0000e+00, 7.0312e-01, 5.2320e-02],\n",
       "        [1.0000e+00, 8.2812e-01, 8.8477e-02],\n",
       "        [2.0000e+00, 3.5938e-01, 2.2001e-01],\n",
       "        [2.0000e+00, 6.7188e-01, 5.0167e-02],\n",
       "        [3.0000e+00, 4.6875e-01, 9.9060e-02],\n",
       "        [3.0000e+00, 7.1875e-01, 6.1555e-02],\n",
       "        [3.0000e+00, 8.2812e-01, 8.5457e-02],\n",
       "        [4.0000e+00, 4.6875e-02, 1.0564e-01],\n",
       "        [4.0000e+00, 1.7188e-01, 3.1309e-01],\n",
       "        [4.0000e+00, 3.4375e-01, 3.3588e-01],\n",
       "        [4.0000e+00, 7.0312e-01, 5.3082e-02],\n",
       "        [5.0000e+00, 4.6875e-02, 1.3901e-01],\n",
       "        [5.0000e+00, 1.7188e-01, 5.4604e-01],\n",
       "        [5.0000e+00, 8.2812e-01, 8.1232e-02],\n",
       "        [6.0000e+00, 4.6875e-02, 1.3518e-01],\n",
       "        [6.0000e+00, 1.0938e-01, 9.8188e-02],\n",
       "        [6.0000e+00, 1.7188e-01, 5.7753e-01],\n",
       "        [6.0000e+00, 5.1562e-01, 1.6085e-01],\n",
       "        [6.0000e+00, 5.6250e-01, 9.5766e-02],\n",
       "        [7.0000e+00, 3.1250e-02, 9.8747e-02],\n",
       "        [7.0000e+00, 1.7188e-01, 5.3264e-01],\n",
       "        [7.0000e+00, 2.3438e-01, 4.7565e-02],\n",
       "        [7.0000e+00, 4.8438e-01, 1.6970e-01],\n",
       "        [7.0000e+00, 6.2500e-01, 1.2975e-01],\n",
       "        [8.0000e+00, 5.0000e-01, 2.4981e-01],\n",
       "        [9.0000e+00, 9.3750e-02, 8.2988e-02],\n",
       "        [9.0000e+00, 2.1875e-01, 1.0040e-01],\n",
       "        [9.0000e+00, 4.8438e-01, 2.0842e-01],\n",
       "        [1.0000e+01, 2.1875e-01, 1.8157e-01],\n",
       "        [1.0000e+01, 2.9688e-01, 2.9610e-01],\n",
       "        [1.0000e+01, 4.2188e-01, 4.8103e-02],\n",
       "        [1.0000e+01, 4.8438e-01, 4.0106e-01],\n",
       "        [1.0000e+01, 7.0312e-01, 6.3516e-02],\n",
       "        [1.0000e+01, 8.1250e-01, 4.9931e-02],\n",
       "        [1.0000e+01, 9.0625e-01, 3.3956e-02],\n",
       "        [1.1000e+01, 4.6875e-02, 1.1077e-01],\n",
       "        [1.1000e+01, 1.0938e-01, 1.1056e-01],\n",
       "        [1.1000e+01, 1.4062e-01, 6.2766e-02],\n",
       "        [1.1000e+01, 2.1875e-01, 2.9267e-01],\n",
       "        [1.1000e+01, 2.9688e-01, 5.1089e-01],\n",
       "        [1.1000e+01, 4.2188e-01, 9.1952e-02],\n",
       "        [1.1000e+01, 5.0000e-01, 6.1221e-01],\n",
       "        [1.1000e+01, 7.0312e-01, 7.0160e-02],\n",
       "        [1.1000e+01, 8.1250e-01, 7.0751e-02],\n",
       "        [1.1000e+01, 8.9062e-01, 4.0817e-02],\n",
       "        [1.1000e+01, 9.6875e-01, 2.9531e-02],\n",
       "        [1.2000e+01, 9.3750e-02, 9.2416e-02],\n",
       "        [1.2000e+01, 2.1875e-01, 3.2270e-01],\n",
       "        [1.2000e+01, 4.2188e-01, 1.5852e-01],\n",
       "        [1.2000e+01, 4.5312e-01, 7.4083e-02],\n",
       "        [1.2000e+01, 4.8438e-01, 9.2252e-01],\n",
       "        [1.2000e+01, 6.5625e-01, 4.0488e-02],\n",
       "        [1.2000e+01, 6.8750e-01, 8.3823e-02],\n",
       "        [1.2000e+01, 7.6562e-01, 6.0172e-02],\n",
       "        [1.2000e+01, 9.0625e-01, 6.9531e-02],\n",
       "        [1.2000e+01, 9.6875e-01, 3.8192e-02],\n",
       "        [1.3000e+01, 1.4062e-01, 8.2695e-02],\n",
       "        [1.3000e+01, 2.9688e-01, 6.9341e-01],\n",
       "        [1.3000e+01, 3.4375e-01, 3.8336e-01],\n",
       "        [1.3000e+01, 4.2188e-01, 1.8792e-01],\n",
       "        [1.3000e+01, 4.8438e-01, 1.0000e+00],\n",
       "        [1.3000e+01, 5.7812e-01, 4.6454e-02],\n",
       "        [1.3000e+01, 7.0312e-01, 7.1096e-02],\n",
       "        [1.3000e+01, 7.6562e-01, 7.8821e-02],\n",
       "        [1.3000e+01, 8.1250e-01, 8.5232e-02],\n",
       "        [1.3000e+01, 8.9062e-01, 6.5432e-02],\n",
       "        [1.4000e+01, 1.7188e-01, 3.9130e-01],\n",
       "        [1.4000e+01, 2.8125e-01, 3.9607e-01],\n",
       "        [1.4000e+01, 3.4375e-01, 3.8962e-01],\n",
       "        [1.4000e+01, 4.2188e-01, 2.0888e-01],\n",
       "        [1.4000e+01, 4.5312e-01, 1.9391e-01],\n",
       "        [1.4000e+01, 7.0312e-01, 9.3565e-02],\n",
       "        [1.4000e+01, 8.1250e-01, 8.3887e-02],\n",
       "        [1.5000e+01, 2.3438e-01, 2.1220e-01],\n",
       "        [1.5000e+01, 2.9688e-01, 6.2399e-01],\n",
       "        [1.5000e+01, 5.4688e-01, 9.0397e-02],\n",
       "        [1.5000e+01, 6.2500e-01, 8.9490e-02],\n",
       "        [1.6000e+01, 2.1875e-01, 2.8758e-01],\n",
       "        [1.6000e+01, 3.4375e-01, 4.0581e-01],\n",
       "        [1.6000e+01, 4.5312e-01, 2.0913e-01],\n",
       "        [1.6000e+01, 5.4688e-01, 9.0692e-02],\n",
       "        [1.6000e+01, 6.5625e-01, 3.7670e-02],\n",
       "        [1.7000e+01, 1.5625e-01, 1.5755e-01],\n",
       "        [1.7000e+01, 3.4375e-01, 5.0475e-01],\n",
       "        [1.7000e+01, 6.0938e-01, 5.9380e-02],\n",
       "        [1.7000e+01, 8.2812e-01, 8.4468e-02],\n",
       "        [1.8000e+01, 1.5625e-01, 1.8649e-01],\n",
       "        [1.8000e+01, 2.9688e-01, 6.3307e-01],\n",
       "        [1.8000e+01, 6.0938e-01, 5.8320e-02],\n",
       "        [1.8000e+01, 7.1875e-01, 5.3744e-02],\n",
       "        [1.8000e+01, 8.2812e-01, 8.9003e-02],\n",
       "        [1.9000e+01, 3.4375e-01, 4.7905e-01],\n",
       "        [1.9000e+01, 8.2812e-01, 1.1017e-01],\n",
       "        [2.0000e+01, 1.7188e-01, 2.9290e-01],\n",
       "        [2.0000e+01, 5.0000e-01, 3.0767e-01],\n",
       "        [2.0000e+01, 6.8750e-01, 6.0951e-02],\n",
       "        [2.0000e+01, 9.2188e-01, 5.2109e-02],\n",
       "        [2.1000e+01, 1.7188e-01, 2.9095e-01],\n",
       "        [2.1000e+01, 3.4375e-01, 4.9618e-01],\n",
       "        [2.1000e+01, 7.1875e-01, 5.1746e-02],\n",
       "        [2.1000e+01, 7.8125e-01, 4.0901e-02],\n",
       "        [2.1000e+01, 9.2188e-01, 5.9364e-02],\n",
       "        [2.2000e+01, 3.1250e-01, 2.0424e-01],\n",
       "        [2.2000e+01, 5.6250e-01, 9.8758e-02],\n",
       "        [2.2000e+01, 6.2500e-01, 7.1481e-02],\n",
       "        [2.2000e+01, 6.8750e-01, 6.2333e-02],\n",
       "        [2.2000e+01, 7.9688e-01, 3.8109e-02],\n",
       "        [2.2000e+01, 8.7500e-01, 3.7223e-02],\n",
       "        [2.3000e+01, 2.9688e-01, 4.0415e-01],\n",
       "        [2.3000e+01, 3.4375e-01, 4.7645e-01],\n",
       "        [2.3000e+01, 6.2500e-01, 8.1016e-02],\n",
       "        [2.4000e+01, 3.1250e-01, 2.5116e-01],\n",
       "        [2.4000e+01, 5.3125e-01, 6.8422e-02],\n",
       "        [2.5000e+01, 1.5625e-02, 1.2036e-01],\n",
       "        [2.5000e+01, 6.2500e-02, 1.4617e-01],\n",
       "        [2.5000e+01, 1.5625e-01, 2.1100e-01],\n",
       "        [2.5000e+01, 5.4688e-01, 2.8176e-01],\n",
       "        [2.5000e+01, 7.5000e-01, 6.4625e-02],\n",
       "        [2.5000e+01, 8.7500e-01, 5.4385e-02],\n",
       "        [2.6000e+01, 1.5625e-02, 3.8491e-01],\n",
       "        [2.6000e+01, 1.4062e-01, 1.4154e-01],\n",
       "        [2.6000e+01, 5.4688e-01, 7.0676e-01],\n",
       "        [2.6000e+01, 6.5625e-01, 4.0366e-02],\n",
       "        [2.6000e+01, 7.5000e-01, 7.4766e-02],\n",
       "        [2.6000e+01, 8.7500e-01, 9.8461e-02],\n",
       "        [2.7000e+01, 1.5625e-02, 5.0898e-01],\n",
       "        [2.7000e+01, 9.3750e-02, 8.9825e-02],\n",
       "        [2.7000e+01, 2.0312e-01, 1.5020e-01],\n",
       "        [2.7000e+01, 3.2812e-01, 2.8701e-01],\n",
       "        [2.7000e+01, 3.9062e-01, 1.4256e-01],\n",
       "        [2.7000e+01, 5.3125e-01, 5.1720e-01],\n",
       "        [2.7000e+01, 5.9375e-01, 5.1336e-02],\n",
       "        [2.7000e+01, 7.5000e-01, 9.4065e-02],\n",
       "        [2.7000e+01, 9.5312e-01, 2.5137e-02],\n",
       "        [2.8000e+01, 1.5625e-02, 4.6249e-01],\n",
       "        [2.8000e+01, 1.7188e-01, 4.0754e-01],\n",
       "        [2.8000e+01, 3.4375e-01, 5.6536e-01],\n",
       "        [2.8000e+01, 3.9062e-01, 2.6420e-01],\n",
       "        [2.8000e+01, 5.9375e-01, 1.0672e-01],\n",
       "        [2.8000e+01, 7.9688e-01, 3.2169e-02],\n",
       "        [2.8000e+01, 9.5312e-01, 3.2845e-02],\n",
       "        [2.9000e+01, 1.8750e-01, 2.3301e-01],\n",
       "        [2.9000e+01, 3.4375e-01, 6.9318e-01],\n",
       "        [2.9000e+01, 3.9062e-01, 3.0170e-01],\n",
       "        [2.9000e+01, 5.9375e-01, 1.4930e-01],\n",
       "        [2.9000e+01, 7.1875e-01, 4.9787e-02],\n",
       "        [2.9000e+01, 7.5000e-01, 1.1989e-01],\n",
       "        [2.9000e+01, 7.9688e-01, 3.8861e-02],\n",
       "        [3.0000e+01, 1.5625e-01, 2.0508e-01],\n",
       "        [3.0000e+01, 2.0312e-01, 2.0256e-01],\n",
       "        [3.0000e+01, 5.9375e-01, 1.7073e-01],\n",
       "        [3.0000e+01, 6.7188e-01, 4.9884e-02],\n",
       "        [3.0000e+01, 7.1875e-01, 8.9316e-02],\n",
       "        [3.1000e+01, 2.0312e-01, 2.7649e-01],\n",
       "        [3.1000e+01, 6.5625e-01, 4.8104e-02],\n",
       "        [3.1000e+01, 8.4375e-01, 3.0765e-02],\n",
       "        [3.2000e+01, 2.0312e-01, 2.6727e-01],\n",
       "        [3.2000e+01, 3.2812e-01, 3.4521e-01],\n",
       "        [3.2000e+01, 7.1875e-01, 1.1260e-01],\n",
       "        [3.2000e+01, 8.4375e-01, 6.5130e-02],\n",
       "        [3.3000e+01, 2.0312e-01, 2.7765e-01],\n",
       "        [3.3000e+01, 5.1562e-01, 4.0500e-01],\n",
       "        [3.3000e+01, 6.5625e-01, 4.5835e-02],\n",
       "        [3.3000e+01, 7.1875e-01, 1.3743e-01],\n",
       "        [3.3000e+01, 8.4375e-01, 7.6925e-02],\n",
       "        [3.3000e+01, 9.2188e-01, 8.0471e-02],\n",
       "        [3.4000e+01, 2.3438e-01, 9.3873e-02],\n",
       "        [3.4000e+01, 3.1250e-01, 2.3739e-01],\n",
       "        [3.4000e+01, 7.1875e-01, 1.6381e-01],\n",
       "        [3.4000e+01, 7.8125e-01, 3.1299e-02],\n",
       "        [3.4000e+01, 8.4375e-01, 7.5905e-02],\n",
       "        [3.5000e+01, 1.8750e-01, 3.1311e-01],\n",
       "        [3.5000e+01, 2.3438e-01, 1.2665e-01],\n",
       "        [3.5000e+01, 3.4375e-01, 4.3011e-01],\n",
       "        [3.5000e+01, 6.2500e-01, 8.4027e-02],\n",
       "        [3.6000e+01, 1.0938e-01, 4.8336e-02],\n",
       "        [3.6000e+01, 1.7188e-01, 4.5368e-01],\n",
       "        [3.6000e+01, 2.1875e-01, 1.4999e-01],\n",
       "        [3.6000e+01, 3.5938e-01, 2.5677e-01],\n",
       "        [3.6000e+01, 4.6875e-01, 1.0341e-01],\n",
       "        [3.6000e+01, 5.6250e-01, 1.1720e-01],\n",
       "        [3.6000e+01, 6.2500e-01, 9.5602e-02],\n",
       "        [3.6000e+01, 8.2812e-01, 1.0787e-01],\n",
       "        [3.7000e+01, 1.7188e-01, 5.1840e-01],\n",
       "        [3.8000e+01, 5.0000e-01, 2.1846e-01],\n",
       "        [3.8000e+01, 5.6250e-01, 1.2666e-01],\n",
       "        [3.8000e+01, 7.8125e-01, 4.6250e-02],\n",
       "        [3.9000e+01, 1.5625e-01, 2.2419e-01],\n",
       "        [3.9000e+01, 4.5312e-01, 1.0134e-01],\n",
       "        [3.9000e+01, 4.8438e-01, 2.7310e-01],\n",
       "        [3.9000e+01, 9.6875e-01, 2.0723e-02],\n",
       "        [4.0000e+01, 2.1875e-01, 1.4332e-01],\n",
       "        [4.0000e+01, 2.9688e-01, 1.7493e-01],\n",
       "        [4.0000e+01, 4.2188e-01, 8.9443e-02],\n",
       "        [4.0000e+01, 4.8438e-01, 5.1036e-01],\n",
       "        [4.0000e+01, 8.1250e-01, 8.3795e-02],\n",
       "        [4.0000e+01, 9.0625e-01, 5.4170e-02],\n",
       "        [4.0000e+01, 9.6875e-01, 2.8297e-02],\n",
       "        [4.1000e+01, 7.8125e-02, 4.6433e-02],\n",
       "        [4.1000e+01, 2.3438e-01, 1.1895e-01],\n",
       "        [4.1000e+01, 2.8125e-01, 2.3491e-01],\n",
       "        [4.1000e+01, 4.5312e-01, 1.3040e-01],\n",
       "        [4.1000e+01, 4.8438e-01, 5.9852e-01],\n",
       "        [4.1000e+01, 5.3125e-01, 1.6774e-01],\n",
       "        [4.1000e+01, 5.7812e-01, 3.8298e-02],\n",
       "        [4.1000e+01, 6.0938e-01, 6.9989e-02],\n",
       "        [4.1000e+01, 8.1250e-01, 1.1107e-01],\n",
       "        [4.1000e+01, 9.0625e-01, 6.1520e-02],\n",
       "        [4.1000e+01, 9.6875e-01, 3.2759e-02],\n",
       "        [0.0000e+00, 0.0000e+00, 0.0000e+00],\n",
       "        [0.0000e+00, 0.0000e+00, 0.0000e+00],\n",
       "        [0.0000e+00, 0.0000e+00, 0.0000e+00],\n",
       "        [0.0000e+00, 0.0000e+00, 0.0000e+00],\n",
       "        [0.0000e+00, 0.0000e+00, 0.0000e+00],\n",
       "        [0.0000e+00, 0.0000e+00, 0.0000e+00],\n",
       "        [0.0000e+00, 0.0000e+00, 0.0000e+00],\n",
       "        [0.0000e+00, 0.0000e+00, 0.0000e+00],\n",
       "        [0.0000e+00, 0.0000e+00, 0.0000e+00],\n",
       "        [0.0000e+00, 0.0000e+00, 0.0000e+00],\n",
       "        [0.0000e+00, 0.0000e+00, 0.0000e+00],\n",
       "        [0.0000e+00, 0.0000e+00, 0.0000e+00],\n",
       "        [0.0000e+00, 0.0000e+00, 0.0000e+00],\n",
       "        [0.0000e+00, 0.0000e+00, 0.0000e+00],\n",
       "        [0.0000e+00, 0.0000e+00, 0.0000e+00],\n",
       "        [0.0000e+00, 0.0000e+00, 0.0000e+00],\n",
       "        [0.0000e+00, 0.0000e+00, 0.0000e+00],\n",
       "        [0.0000e+00, 0.0000e+00, 0.0000e+00],\n",
       "        [0.0000e+00, 0.0000e+00, 0.0000e+00],\n",
       "        [0.0000e+00, 0.0000e+00, 0.0000e+00],\n",
       "        [0.0000e+00, 0.0000e+00, 0.0000e+00],\n",
       "        [0.0000e+00, 0.0000e+00, 0.0000e+00],\n",
       "        [0.0000e+00, 0.0000e+00, 0.0000e+00],\n",
       "        [0.0000e+00, 0.0000e+00, 0.0000e+00],\n",
       "        [0.0000e+00, 0.0000e+00, 0.0000e+00],\n",
       "        [0.0000e+00, 0.0000e+00, 0.0000e+00],\n",
       "        [0.0000e+00, 0.0000e+00, 0.0000e+00],\n",
       "        [0.0000e+00, 0.0000e+00, 0.0000e+00],\n",
       "        [0.0000e+00, 0.0000e+00, 0.0000e+00],\n",
       "        [0.0000e+00, 0.0000e+00, 0.0000e+00],\n",
       "        [0.0000e+00, 0.0000e+00, 0.0000e+00],\n",
       "        [0.0000e+00, 0.0000e+00, 0.0000e+00],\n",
       "        [0.0000e+00, 0.0000e+00, 0.0000e+00],\n",
       "        [0.0000e+00, 0.0000e+00, 0.0000e+00],\n",
       "        [0.0000e+00, 0.0000e+00, 0.0000e+00],\n",
       "        [0.0000e+00, 0.0000e+00, 0.0000e+00],\n",
       "        [0.0000e+00, 0.0000e+00, 0.0000e+00]], dtype=torch.float64)"
      ]
     },
     "execution_count": 7,
     "metadata": {},
     "output_type": "execute_result"
    }
   ],
   "source": [
    "pklist[:,0] = pklist[:,0] * sgram.shape[1]\n",
    "pklist"
   ]
  },
  {
   "cell_type": "code",
   "execution_count": 5,
   "metadata": {},
   "outputs": [
    {
     "data": {
      "text/plain": [
       "torch.Size([3, 230, 3])"
      ]
     },
     "execution_count": 5,
     "metadata": {},
     "output_type": "execute_result"
    }
   ],
   "source": [
    "a = torch.rand(219, 3)\n",
    "b = torch.rand(230, 3)\n",
    "c = torch.rand(223, 3)\n",
    "p_list = [a, b, c]\n",
    "max_p = max(arr.shape[0] for arr in p_list)\n",
    "for i in range(len(p_list)):\n",
    "    p_list[i] = torch.cat((p_list[i], torch.zeros(max_p - p_list[i].shape[0], 3)))\n",
    "\n",
    "torch.stack(p_list).shape"
   ]
  },
  {
   "cell_type": "code",
   "execution_count": 5,
   "metadata": {},
   "outputs": [
    {
     "data": {
      "image/png": "[encoded data removed]",
      "text/plain": [
       "<Figure size 432x288 with 1 Axes>"
      ]
     },
     "metadata": {
      "needs_background": "light"
     },
     "output_type": "display_data"
    },
    {
     "data": {
      "image/png": "[encoded data removed]",
      "text/plain": [
       "<Figure size 432x288 with 1 Axes>"
      ]
     },
     "metadata": {
      "needs_background": "light"
     },
     "output_type": "display_data"
    }
   ],
   "source": [
    "peaks_cut = peaks\n",
    "\n",
    "mask = peaks2mask(peaks_cut)\n",
    "fig = plt.figure()\n",
    "ax = fig.add_subplot(111)\n",
    "yticks = np.arange(0, 64, 8)\n",
    "xticks = np.arange(0, 42, 6)\n",
    "ax.set_xticks(xticks)\n",
    "ax.set_yticks(yticks)\n",
    "\n",
    "ax.grid(alpha=0.5)\n",
    "plt.imshow(mask, cmap='gray', interpolation='nearest', aspect='auto', origin='lower')\n",
    "plt.show()\n",
    "\n",
    "plt.imshow(sgram*mask, cmap='gray_r', interpolation='nearest', aspect='auto', origin='lower')\n",
    "plt.show()"
   ]
  },
  {
   "cell_type": "code",
   "execution_count": 1,
   "metadata": {},
   "outputs": [
    {
     "ename": "NameError",
     "evalue": "name 'load_config' is not defined",
     "output_type": "error",
     "traceback": [
      "\u001b[0;31m---------------------------------------------------------------------------\u001b[0m",
      "\u001b[0;31mNameError\u001b[0m                                 Traceback (most recent call last)",
      "\u001b[0;32m/tmp/ipykernel_32708/890436988.py\u001b[0m in \u001b[0;36m<module>\u001b[0;34m\u001b[0m\n\u001b[0;32m----> 1\u001b[0;31m \u001b[0mcfg\u001b[0m \u001b[0;34m=\u001b[0m \u001b[0mload_config\u001b[0m\u001b[0;34m(\u001b[0m\u001b[0;34m'config/audfp.yaml'\u001b[0m\u001b[0;34m)\u001b[0m\u001b[0;34m\u001b[0m\u001b[0;34m\u001b[0m\u001b[0m\n\u001b[0m\u001b[1;32m      2\u001b[0m \u001b[0;34m\u001b[0m\u001b[0m\n\u001b[1;32m      3\u001b[0m \u001b[0mfilename\u001b[0m \u001b[0;34m=\u001b[0m \u001b[0mlibrosa\u001b[0m\u001b[0;34m.\u001b[0m\u001b[0mexample\u001b[0m\u001b[0;34m(\u001b[0m\u001b[0;34m'brahms'\u001b[0m\u001b[0;34m)\u001b[0m\u001b[0;34m\u001b[0m\u001b[0;34m\u001b[0m\u001b[0m\n\u001b[1;32m      4\u001b[0m \u001b[0manalyzer\u001b[0m \u001b[0;34m=\u001b[0m \u001b[0mAnalyzer\u001b[0m\u001b[0;34m(\u001b[0m\u001b[0mcfg\u001b[0m\u001b[0;34m=\u001b[0m\u001b[0mcfg\u001b[0m\u001b[0;34m,\u001b[0m \u001b[0mdensity\u001b[0m\u001b[0;34m=\u001b[0m\u001b[0;36m100.0\u001b[0m\u001b[0;34m)\u001b[0m\u001b[0;34m\u001b[0m\u001b[0;34m\u001b[0m\u001b[0m\n\u001b[1;32m      5\u001b[0m \u001b[0md\u001b[0m\u001b[0;34m,\u001b[0m \u001b[0msr\u001b[0m \u001b[0;34m=\u001b[0m \u001b[0mlibrosa\u001b[0m\u001b[0;34m.\u001b[0m\u001b[0mload\u001b[0m\u001b[0;34m(\u001b[0m\u001b[0mfilename\u001b[0m\u001b[0;34m,\u001b[0m \u001b[0msr\u001b[0m\u001b[0;34m=\u001b[0m\u001b[0;36m11025\u001b[0m\u001b[0;34m,\u001b[0m \u001b[0mduration\u001b[0m\u001b[0;34m=\u001b[0m\u001b[0;36m100.0\u001b[0m\u001b[0;34m)\u001b[0m\u001b[0;34m\u001b[0m\u001b[0;34m\u001b[0m\u001b[0m\n",
      "\u001b[0;31mNameError\u001b[0m: name 'load_config' is not defined"
     ]
    }
   ],
   "source": [
    "cfg = load_config('config/audfp.yaml')\n",
    "\n",
    "filename = librosa.example('brahms')\n",
    "analyzer = Analyzer(cfg=cfg, density=100.0)\n",
    "d, sr = librosa.load(filename, sr=11025, duration=100.0)\n",
    "# peaks, pklist = analyzer.wavfile2peaks(filename)\n",
    "peaks, pklist = analyzer.find_peaks(d, sr)\n",
    "\n",
    "plt.figure(figsize=(20,5))\n",
    "plt.scatter(np.array(pklist)[:,0], np.array(pklist)[:,1], color='red',alpha=1.0, marker='o')\n",
    "sgram = np.abs(librosa.stft(y=d, n_fft= 512,\n",
    "                          hop_length=256,\n",
    "                          window='hann'))\n",
    "S_dB = librosa.power_to_db(sgram, ref=np.max)\n",
    "plt.imshow(S_dB, cmap='gray_r', interpolation='nearest', aspect='auto', origin='lower', alpha=0.5)\n",
    "\n",
    "plt.show()"
   ]
  },
  {
   "cell_type": "code",
   "execution_count": 5,
   "metadata": {},
   "outputs": [
    {
     "data": {
      "text/plain": [
       "torch.Size([64, 87])"
      ]
     },
     "execution_count": 5,
     "metadata": {},
     "output_type": "execute_result"
    }
   ],
   "source": [
    "import torch.nn as nn\n",
    "from torchaudio.transforms import MelSpectrogram, AmplitudeToDB\n",
    "\n",
    "cfg = load_config('config/grafp.yaml')\n",
    "logmelspec = nn.Sequential(\n",
    "    MelSpectrogram(sample_rate=cfg['fs'], \n",
    "                    win_length=cfg['win_len'], \n",
    "                    hop_length=cfg['hop_len'], \n",
    "                    n_fft=cfg['n_fft'], \n",
    "                    n_mels=cfg['n_mels']),\n",
    "    AmplitudeToDB()\n",
    ") \n",
    "\n",
    "filename = librosa.example('brahms')\n",
    "y, sr = librosa.load(filename, sr=11025, duration=1.0)\n",
    "y = torch.tensor(y)\n",
    "logmelspec(y).shape"
   ]
  }
 ],
 "metadata": {
  "kernelspec": {
   "display_name": "base",
   "language": "python",
   "name": "python3"
  },
  "language_info": {
   "codemirror_mode": {
    "name": "ipython",
    "version": 3
   },
   "file_extension": ".py",
   "mimetype": "text/x-python",
   "name": "python",
   "nbconvert_exporter": "python",
   "pygments_lexer": "ipython3",
   "version": "3.8.12"
  }
 },
 "nbformat": 4,
 "nbformat_minor": 2
}
