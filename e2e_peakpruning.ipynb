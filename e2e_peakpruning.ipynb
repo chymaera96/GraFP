{
 "cells": [
  {
   "cell_type": "code",
   "execution_count": 73,
   "metadata": {},
   "outputs": [],
   "source": [
    "import torch\n",
    "import torch.nn as nn\n",
    "import torch.nn.functional as F\n",
    "\n",
    "# Gaussian blur a tensor using 2D convolution and extract predominant peaks\n",
    "    # Define the Gaussian kernel\n",
    "def gaussian_blur(x, sigma):\n",
    "    kernel_size = 2 * int(2 * sigma) + 1\n",
    "    kernel = torch.tensor([torch.exp(torch.tensor(-0.5 * (i - kernel_size // 2) ** 2 / sigma ** 2)) for i in range(kernel_size)])\n",
    "    kernel = kernel / kernel.sum()\n",
    "    kernel = kernel.view(1, 1, 1, -1)\n",
    "    kernel = kernel.repeat(x.size(1), 1, 1, 1)\n",
    "    kernel = kernel.to(x.device, x.dtype)\n",
    "\n",
    "    # Blur the tensor by convolving it with the Gaussian kernel\n",
    "    x = F.pad(x, (kernel_size // 2, kernel_size // 2, 0, 0), mode='reflect')\n",
    "    x = F.conv2d(x, kernel, stride=1, groups=x.size(1))\n",
    "\n",
    "    # max pooling with stride 1 to find predominant peaks\n",
    "    x = F.max_pool2d(x, kernel_size=kernel_size, padding=kernel_size // 2)\n",
    "    \n",
    "    return x\n",
    "\n",
    "\n",
    "# From 2-d tensor get a mask of local maxima. Apply the mask to the tensor\n",
    "def local_maxima(x, window_size):\n",
    "    # Find the maximum value in each local window\n",
    "    x_local_max = F.max_pool2d(x, kernel_size=window_size, stride=1, padding=window_size // 2)\n",
    "    \n",
    "    # Generate a binary mask of local maxima\n",
    "    mask = (x == x_local_max).float()\n",
    "    \n",
    "    # Apply the mask to the tensor\n",
    "    x = x * mask\n",
    "    \n",
    "    return x"
   ]
  },
  {
   "cell_type": "code",
   "execution_count": 71,
   "metadata": {},
   "outputs": [
    {
     "ename": "RuntimeError",
     "evalue": "The size of tensor a (89) must match the size of tensor b (91) at non-singleton dimension 3",
     "output_type": "error",
     "traceback": [
      "\u001b[0;31m---------------------------------------------------------------------------\u001b[0m",
      "\u001b[0;31mRuntimeError\u001b[0m                              Traceback (most recent call last)",
      "\u001b[0;32m/tmp/ipykernel_120361/3324440332.py\u001b[0m in \u001b[0;36m<module>\u001b[0;34m\u001b[0m\n\u001b[1;32m     10\u001b[0m \u001b[0mspec\u001b[0m \u001b[0;34m=\u001b[0m \u001b[0mlibrosa\u001b[0m\u001b[0;34m.\u001b[0m\u001b[0mpower_to_db\u001b[0m\u001b[0;34m(\u001b[0m\u001b[0mspec\u001b[0m\u001b[0;34m,\u001b[0m \u001b[0mref\u001b[0m\u001b[0;34m=\u001b[0m\u001b[0mnp\u001b[0m\u001b[0;34m.\u001b[0m\u001b[0mmax\u001b[0m\u001b[0;34m)\u001b[0m\u001b[0;34m\u001b[0m\u001b[0;34m\u001b[0m\u001b[0m\n\u001b[1;32m     11\u001b[0m \u001b[0;34m\u001b[0m\u001b[0m\n\u001b[0;32m---> 12\u001b[0;31m \u001b[0mpeaks\u001b[0m \u001b[0;34m=\u001b[0m \u001b[0mgaussian_blur\u001b[0m\u001b[0;34m(\u001b[0m\u001b[0mtorch\u001b[0m\u001b[0;34m.\u001b[0m\u001b[0mtensor\u001b[0m\u001b[0;34m(\u001b[0m\u001b[0mspec\u001b[0m\u001b[0;34m)\u001b[0m\u001b[0;34m.\u001b[0m\u001b[0munsqueeze\u001b[0m\u001b[0;34m(\u001b[0m\u001b[0;36m0\u001b[0m\u001b[0;34m)\u001b[0m\u001b[0;34m.\u001b[0m\u001b[0munsqueeze\u001b[0m\u001b[0;34m(\u001b[0m\u001b[0;36m0\u001b[0m\u001b[0;34m)\u001b[0m\u001b[0;34m.\u001b[0m\u001b[0mfloat\u001b[0m\u001b[0;34m(\u001b[0m\u001b[0;34m)\u001b[0m\u001b[0;34m,\u001b[0m \u001b[0msigma\u001b[0m\u001b[0;34m=\u001b[0m\u001b[0;36m0.7\u001b[0m\u001b[0;34m)\u001b[0m\u001b[0;34m\u001b[0m\u001b[0;34m\u001b[0m\u001b[0m\n\u001b[0m\u001b[1;32m     13\u001b[0m \u001b[0;34m\u001b[0m\u001b[0m\n\u001b[1;32m     14\u001b[0m \u001b[0mplt\u001b[0m\u001b[0;34m.\u001b[0m\u001b[0mfigure\u001b[0m\u001b[0;34m(\u001b[0m\u001b[0mfigsize\u001b[0m\u001b[0;34m=\u001b[0m\u001b[0;34m(\u001b[0m\u001b[0;36m10\u001b[0m\u001b[0;34m,\u001b[0m \u001b[0;36m4\u001b[0m\u001b[0;34m)\u001b[0m\u001b[0;34m)\u001b[0m\u001b[0;34m\u001b[0m\u001b[0;34m\u001b[0m\u001b[0m\n",
      "\u001b[0;32m/tmp/ipykernel_120361/974705271.py\u001b[0m in \u001b[0;36mgaussian_blur\u001b[0;34m(x, sigma)\u001b[0m\n\u001b[1;32m     18\u001b[0m \u001b[0;34m\u001b[0m\u001b[0m\n\u001b[1;32m     19\u001b[0m     \u001b[0;31m# Use mask as threshold to find predominant peaks\u001b[0m\u001b[0;34m\u001b[0m\u001b[0;34m\u001b[0m\u001b[0;34m\u001b[0m\u001b[0m\n\u001b[0;32m---> 20\u001b[0;31m     \u001b[0mx\u001b[0m \u001b[0;34m=\u001b[0m \u001b[0;34m(\u001b[0m\u001b[0mx\u001b[0m \u001b[0;34m==\u001b[0m \u001b[0mmask\u001b[0m\u001b[0;34m)\u001b[0m\u001b[0;34m.\u001b[0m\u001b[0mfloat\u001b[0m\u001b[0;34m(\u001b[0m\u001b[0;34m)\u001b[0m\u001b[0;34m\u001b[0m\u001b[0;34m\u001b[0m\u001b[0m\n\u001b[0m\u001b[1;32m     21\u001b[0m     \u001b[0mx\u001b[0m \u001b[0;34m=\u001b[0m \u001b[0mx\u001b[0m \u001b[0;34m*\u001b[0m \u001b[0mF\u001b[0m\u001b[0;34m.\u001b[0m\u001b[0mmax_pool2d\u001b[0m\u001b[0;34m(\u001b[0m\u001b[0mx\u001b[0m\u001b[0;34m,\u001b[0m \u001b[0mkernel_size\u001b[0m\u001b[0;34m=\u001b[0m\u001b[0;36m3\u001b[0m\u001b[0;34m,\u001b[0m \u001b[0mstride\u001b[0m\u001b[0;34m=\u001b[0m\u001b[0;36m1\u001b[0m\u001b[0;34m,\u001b[0m \u001b[0mpadding\u001b[0m\u001b[0;34m=\u001b[0m\u001b[0;36m1\u001b[0m\u001b[0;34m)\u001b[0m\u001b[0;34m\u001b[0m\u001b[0;34m\u001b[0m\u001b[0m\n\u001b[1;32m     22\u001b[0m \u001b[0;34m\u001b[0m\u001b[0m\n",
      "\u001b[0;31mRuntimeError\u001b[0m: The size of tensor a (89) must match the size of tensor b (91) at non-singleton dimension 3"
     ]
    }
   ],
   "source": [
    "import librosa\n",
    "import numpy as np\n",
    "import matplotlib.pyplot as plt\n",
    "\n",
    "y, sr = librosa.load(librosa.ex(\"nutcracker\"))\n",
    "# Random snippet of the audio\n",
    "r = np.random.randint(0, len(y)-sr)\n",
    "y = y[r:r+2*sr]\n",
    "spec = librosa.feature.melspectrogram(y=y, sr=sr, n_mels=64)\n",
    "spec = librosa.power_to_db(spec, ref=np.max)\n",
    "\n",
    "peaks = gaussian_blur(torch.tensor(spec).unsqueeze(0).unsqueeze(0).float(), sigma=0.7)\n",
    "\n",
    "plt.figure(figsize=(10, 4))\n",
    "plt.imshow(spec, aspect='auto', origin='lower')\n",
    "plt.colorbar()\n",
    "plt.title('Original Spectrogram')\n",
    "plt.show()\n",
    "\n",
    "plt.figure(figsize=(10, 4))\n",
    "plt.imshow(peaks.squeeze().detach().numpy(), aspect='auto', origin='lower')\n",
    "plt.colorbar()\n",
    "plt.title('Blurred spectrogram')\n",
    "plt.show()\n"
   ]
  }
 ],
 "metadata": {
  "kernelspec": {
   "display_name": "base",
   "language": "python",
   "name": "python3"
  },
  "language_info": {
   "codemirror_mode": {
    "name": "ipython",
    "version": 3
   },
   "file_extension": ".py",
   "mimetype": "text/x-python",
   "name": "python",
   "nbconvert_exporter": "python",
   "pygments_lexer": "ipython3",
   "version": "3.8.12"
  }
 },
 "nbformat": 4,
 "nbformat_minor": 2
}
